{
 "cells": [
  {
   "cell_type": "markdown",
   "metadata": {},
   "source": [
    "#### Generate dataset of 3k paragraphs with varying amount of misspelling errors"
   ]
  },
  {
   "cell_type": "code",
   "execution_count": 1,
   "metadata": {},
   "outputs": [],
   "source": [
    "import glob\n",
    "import numpy as np"
   ]
  },
  {
   "cell_type": "markdown",
   "metadata": {},
   "source": [
    "Read 3k paragraph"
   ]
  },
  {
   "cell_type": "code",
   "execution_count": 2,
   "metadata": {},
   "outputs": [],
   "source": [
    "def read_files(directory, word_limit=3000):\n",
    "    context = \"\"\n",
    "    total_words = 0\n",
    "    for file in glob.glob(directory):\n",
    "        with open(file, 'r', encoding=\"utf-8\") as f:\n",
    "            for line in f:\n",
    "                words = line.split()\n",
    "                if total_words + len(words) > word_limit:\n",
    "                    context += ' '.join(words[:word_limit - total_words])\n",
    "                    return context\n",
    "                else:\n",
    "                    context += line\n",
    "                    total_words += len(words)\n",
    "    return context"
   ]
  },
  {
   "cell_type": "code",
   "execution_count": 3,
   "metadata": {},
   "outputs": [],
   "source": [
    "context = read_files(\"paulgrahamessays/*.txt\")"
   ]
  },
  {
   "cell_type": "markdown",
   "metadata": {},
   "source": [
    "spelling errors"
   ]
  },
  {
   "cell_type": "code",
   "execution_count": 4,
   "metadata": {},
   "outputs": [],
   "source": [
    "import random\n",
    "import string\n",
    "\n",
    "def misspell_word(word):\n",
    "    if len(word) > 3:\n",
    "        misspell_index = random.randint(0, len(word) - 1)\n",
    "        return word[:misspell_index] + word[misspell_index + 1:]\n",
    "    else:\n",
    "        random_letter = random.choice(string.ascii_lowercase)\n",
    "        insert_index = random.randint(0, len(word))\n",
    "        return word[:insert_index] + random_letter + word[insert_index:]\n",
    "\n",
    "def misspell(context, misspell_ratio):\n",
    "    words = context.split()\n",
    "    total_words = len(words)\n",
    "    words_to_misspell = int(total_words * misspell_ratio)\n",
    "\n",
    "    # Randomly select words to misspell\n",
    "    indices_to_misspell = random.sample(range(total_words), words_to_misspell)\n",
    "\n",
    "    for index in indices_to_misspell:\n",
    "        words[index] = misspell_word(words[index])\n",
    "\n",
    "    # Reconstruct the context with misspelled words\n",
    "    return ' '.join(words)"
   ]
  },
  {
   "cell_type": "markdown",
   "metadata": {},
   "source": [
    "Save files with spelling errors - increasing ratio"
   ]
  },
  {
   "cell_type": "code",
   "execution_count": 6,
   "metadata": {},
   "outputs": [],
   "source": [
    "# the different rates of misspelling\n",
    "ratios = np.linspace(0, 1, num=11, endpoint=True)\n",
    "\n",
    "# generate misspelled paragraphs and save to data/\n",
    "for r in ratios:\n",
    "    misspelled = misspell(context, r)\n",
    "\n",
    "    with open(f'data/misspelled_{r:.2f}.txt', 'w') as file:\n",
    "        file.write(misspelled)"
   ]
  }
 ],
 "metadata": {
  "kernelspec": {
   "display_name": "env",
   "language": "python",
   "name": "python3"
  },
  "language_info": {
   "codemirror_mode": {
    "name": "ipython",
    "version": 3
   },
   "file_extension": ".py",
   "mimetype": "text/x-python",
   "name": "python",
   "nbconvert_exporter": "python",
   "pygments_lexer": "ipython3",
   "version": "3.11.7"
  }
 },
 "nbformat": 4,
 "nbformat_minor": 2
}
